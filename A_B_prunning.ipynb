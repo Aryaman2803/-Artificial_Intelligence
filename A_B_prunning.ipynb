{
  "nbformat": 4,
  "nbformat_minor": 0,
  "metadata": {
    "colab": {
      "name": "A-B prunning.ipynb",
      "provenance": [],
      "collapsed_sections": []
    },
    "kernelspec": {
      "name": "python3",
      "display_name": "Python 3"
    }
  },
  "cells": [
    {
      "cell_type": "code",
      "metadata": {
        "id": "EKbRyHSqYVuz",
        "colab": {
          "base_uri": "https://localhost:8080/"
        },
        "outputId": "400cf6ad-d05f-41c5-bf34-2d96b20f30d0"
      },
      "source": [
        "# Python3 program to demonstrate \n",
        "# working of Alpha-Beta Pruning \n",
        "\n",
        "# Initial values of Aplha and Beta \n",
        "MAX, MIN = 1000, -1000\n",
        "\n",
        "# Returns optimal value for current player \n",
        "#(Initially called for root and maximizer) \n",
        "def minimax(depth, nodeIndex, maximizingPlayer, \n",
        "\t\t\tvalues, alpha, beta): \n",
        "\n",
        "\t# Terminating condition. i.e \n",
        "\t# leaf node is reached \n",
        "\tif depth == 3: \n",
        "\t\treturn values[nodeIndex] \n",
        "\n",
        "\tif maximizingPlayer: \n",
        "\t\n",
        "\t\tbest = MIN\n",
        "\n",
        "\t\t# Recur for left and right children \n",
        "\t\tfor i in range(0, 2): \n",
        "\t\t\t\n",
        "\t\t\tval = minimax(depth + 1, nodeIndex * 2 + i, \n",
        "\t\t\t\t\t\tFalse, values, alpha, beta) \n",
        "\t\t\tbest = max(best, val) \n",
        "\t\t\talpha = max(alpha, best) \n",
        "\n",
        "\t\t\t# Alpha Beta Pruning \n",
        "\t\t\tif beta <= alpha: \n",
        "\t\t\t\tbreak\n",
        "\t\t\n",
        "\t\treturn best \n",
        "\t\n",
        "\telse: \n",
        "\t\tbest = MAX\n",
        "\n",
        "\t\t# Recur for left and \n",
        "\t\t# right children \n",
        "\t\tfor i in range(0, 2): \n",
        "\t\t\n",
        "\t\t\tval = minimax(depth + 1, nodeIndex * 2 + i, \n",
        "\t\t\t\t\t\t\tTrue, values, alpha, beta) \n",
        "\t\t\tbest = min(best, val) \n",
        "\t\t\tbeta = min(beta, best) \n",
        "\n",
        "\t\t\t# Alpha Beta Pruning \n",
        "\t\t\tif beta <= alpha: \n",
        "\t\t\t\tbreak\n",
        "\t\t\n",
        "\t\treturn best \n",
        "\t\n",
        "# Driver Code \n",
        "if __name__ == \"__main__\": \n",
        "\n",
        "\tvalues = [3, 5, 6, 9, 1, 2, 0, -1] \n",
        "\tprint(\"The optimal value is :\", minimax(0, 0, True, values, MIN, MAX)) \n",
        "\t\n",
        "# This code is contributed by Rituraj Jain \n"
      ],
      "execution_count": null,
      "outputs": [
        {
          "output_type": "stream",
          "text": [
            "The optimal value is : 5\n"
          ],
          "name": "stdout"
        }
      ]
    }
  ]
}